{
 "cells": [
  {
   "cell_type": "markdown",
   "id": "c644b8f0",
   "metadata": {},
   "source": [
    "# Puzzle: 3-step Newton cycle\n",
    "\n",
    "Original description:\n",
    "\n",
    "> x!=0; n(x) is one step of newtons method with respect to f(x); find f(x) such that n(n(n(f(x)))) = f(x)\n",
    "\n",
    "> and n(f(x)) != f(x)"
   ]
  },
  {
   "cell_type": "markdown",
   "id": "3c3c1078",
   "metadata": {},
   "source": [
    "## Approach: Hermite Interpolation\n",
    "\n",
    "Pick any three points $`x_0, x_1, x_2`$. Let $`f_0 = x_0, f_1 = x_1, f_2 = x2, f\\prime_0 = x_1, f\\prime_1 = x_2, f\\prime_2 = x_0`$."
   ]
  },
  {
   "cell_type": "code",
   "execution_count": null,
   "id": "d927577d",
   "metadata": {},
   "outputs": [
    {
     "data": {
      "text/plain": [
       "[Eq(a0 + a1 + a2 + a3 + a4 + a5, 1),\n",
       " Eq(a0 + 2*a1 + 4*a2 + 8*a3 + 16*a4 + 32*a5, 2),\n",
       " Eq(a0 + 3*a1 + 9*a2 + 27*a3 + 81*a4 + 243*a5, 3),\n",
       " Eq(a1 + 2*a2 + 3*a3 + 4*a4 + 5*a5, 2),\n",
       " Eq(a1 + 4*a2 + 12*a3 + 32*a4 + 80*a5, 3),\n",
       " Eq(a1 + 6*a2 + 27*a3 + 108*a4 + 405*a5, 1)]"
      ]
     },
     "metadata": {},
     "output_type": "display_data"
    },
    {
     "data": {
      "text/latex": [
       "$\\displaystyle \\left\\{ a_{0} : -45, \\  a_{1} : 139, \\  a_{2} : - \\frac{641}{4}, \\  a_{3} : \\frac{351}{4}, \\  a_{4} : - \\frac{91}{4}, \\  a_{5} : \\frac{9}{4}\\right\\}$"
      ],
      "text/plain": [
       "{a0: -45, a1: 139, a2: -641/4, a3: 351/4, a4: -91/4, a5: 9/4}"
      ]
     },
     "metadata": {},
     "output_type": "display_data"
    }
   ],
   "source": [
    "from IPython.display import display\n",
    "from sympy import diff, simplify, symbols, solve, Eq, Symbol\n",
    "from typing import cast\n",
    "\n",
    "x = Symbol('x')\n",
    "\n",
    "# Generic 5th degree polynomial\n",
    "a0,a1,a2,a3,a4,a5 = (cast(Symbol, s) for s in symbols('a0 a1 a2 a3 a4 a5'))\n",
    "P = a0 + a1*x + a2*x**2 + a3*x**3 + a4*x**4 + a5*x**5\n",
    "\n",
    "dP = diff(P,x)\n",
    "\n",
    "# Force it through our points; f_i = x_i, f\\prime_i = x_{(i+1) mod 3}\n",
    "points = [1, 2, 3]\n",
    "eqs = [Eq(P.subs(x, pt), pt) for pt in points] + [Eq(dP.subs(x, pt), next_) for pt,next_ in zip(points, points[1:] + points[:1])]\n",
    "display(eqs)\n",
    "\n",
    "# See if sympy can interpolate without us needing to explicitly solve lagrangian coefficients\n",
    "sol = simplify(solve(eqs, (a0,a1,a2,a3,a4,a5)))\n",
    "display(sol)"
   ]
  },
  {
   "cell_type": "markdown",
   "id": "783c5926",
   "metadata": {},
   "source": [
    "Verify:"
   ]
  },
  {
   "cell_type": "code",
   "execution_count": 14,
   "id": "bf443f80",
   "metadata": {},
   "outputs": [
    {
     "data": {
      "text/plain": [
       "\"P(1) = 1, P'(1) = 2\""
      ]
     },
     "metadata": {},
     "output_type": "display_data"
    },
    {
     "data": {
      "text/plain": [
       "\"P(2) = 2, P'(2) = 3\""
      ]
     },
     "metadata": {},
     "output_type": "display_data"
    },
    {
     "data": {
      "text/plain": [
       "\"P(3) = 3, P'(3) = 1\""
      ]
     },
     "metadata": {},
     "output_type": "display_data"
    }
   ],
   "source": [
    "solved = P.subs(sol)\n",
    "dsolved = diff(solved, x)\n",
    "for x_val in points:\n",
    "    fx = solved.subs(x, x_val)\n",
    "    dfz = dsolved.subs(x, x_val)\n",
    "    display(f\"P({x_val}) = {fx}, P'({x_val}) = {dfz}\")"
   ]
  },
  {
   "cell_type": "code",
   "execution_count": 15,
   "id": "86b07878",
   "metadata": {},
   "outputs": [
    {
     "data": {
      "text/latex": [
       "$\\displaystyle \\frac{9 x^{5}}{4} - \\frac{91 x^{4}}{4} + \\frac{351 x^{3}}{4} - \\frac{641 x^{2}}{4} + 139 x - 45$"
      ],
      "text/plain": [
       "9*x**5/4 - 91*x**4/4 + 351*x**3/4 - 641*x**2/4 + 139*x - 45"
      ]
     },
     "metadata": {},
     "output_type": "display_data"
    }
   ],
   "source": [
    "display(solved)"
   ]
  }
 ],
 "metadata": {
  "kernelspec": {
   "display_name": "Python 3",
   "language": "python",
   "name": "python3"
  },
  "language_info": {
   "codemirror_mode": {
    "name": "ipython",
    "version": 3
   },
   "file_extension": ".py",
   "mimetype": "text/x-python",
   "name": "python",
   "nbconvert_exporter": "python",
   "pygments_lexer": "ipython3",
   "version": "3.13.5"
  }
 },
 "nbformat": 4,
 "nbformat_minor": 5
}
